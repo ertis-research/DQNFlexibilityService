{
 "cells": [
  {
   "cell_type": "code",
   "execution_count": 1,
   "metadata": {},
   "outputs": [],
   "source": [
    "from dqn_utils.models import *\n",
    "from dqn_utils.utils import define_env, train, optimize_model\n",
    "from dqn_utils.models import manDQN\n",
    "from adabyron_environment.AdaByronDEMO import AdaByronDEMO\n",
    "from dqn_utils.memory import Memory\n",
    "import tensorflow as tf\n",
    "import numpy as np\n",
    "from tensorflow import keras\n",
    "from tensorflow.keras import layers\n",
    "import random\n",
    "from collections import deque"
   ]
  },
  {
   "cell_type": "code",
   "execution_count": null,
   "metadata": {},
   "outputs": [],
   "source": [
    "# env = AdaByronDEMO([\"aire1\", \"aire2\"], [], [\"bateria1\"])\n",
    "# action_space = env.action_space\n",
    "# actionsPerAgents = env.getAgentsActionSpace()\n",
    "\n",
    "# print(actionsPerAgents)\n",
    "# red = manDQN(2, actionsPerAgents)\n",
    "\n",
    "# tf.keras.utils.plot_model(red.model, to_file='model.png', show_shapes=True, show_layer_names=True)"
   ]
  },
  {
   "cell_type": "code",
   "execution_count": 2,
   "metadata": {},
   "outputs": [
    {
     "name": "stdout",
     "output_type": "stream",
     "text": [
      "Loading models...\n",
      "Models not found, creating new ones...\n"
     ]
    }
   ],
   "source": [
    "env, policy_network, target_network, action_space  = define_env(\"test\", [\"aire1\", \"aire2\"], baterias=[\"bateria1\"], INPUT_SIZE=4)\n",
    "\n",
    "#keras.utils.plot_model(policy_network, to_file='policy_network.png', show_shapes=True, show_layer_names=True, rankdir='TB', expand_nested=False, dpi=96)"
   ]
  },
  {
   "cell_type": "code",
   "execution_count": null,
   "metadata": {},
   "outputs": [
    {
     "name": "stdout",
     "output_type": "stream",
     "text": [
      "1\n",
      "[[ 0.   1.  35.  42.5]]\n",
      "Mask\n",
      "[0.0, 0.0, 1.0, 0.0, 0.0, 0.0, 1.0, 0.0, 0.0, 0.0, 0.0, 1.0, 0.0, 0.0, 0.0]\n",
      "Qvalues\n",
      "tf.Tensor([[-0.26103973  3.356014   -1.8755615  -0.8548633 ]], shape=(1, 4), dtype=float32)\n",
      "<class 'tensorflow.python.framework.ops.EagerTensor'>\n",
      "<class 'list'>\n"
     ]
    },
    {
     "ename": "InvalidArgumentError",
     "evalue": "{{function_node __wrapped__Mul_device_/job:localhost/replica:0/task:0/device:CPU:0}} Incompatible shapes: [1,4] vs. [15] [Op:Mul]",
     "output_type": "error",
     "traceback": [
      "\u001b[1;31m---------------------------------------------------------------------------\u001b[0m",
      "\u001b[1;31mInvalidArgumentError\u001b[0m                      Traceback (most recent call last)",
      "\u001b[1;32mc:\\Users\\SergioI\\Proyectos\\Gedera\\DQNFlexibilityService\\main.ipynb Cell 4\u001b[0m line \u001b[0;36m2\n\u001b[0;32m     <a href='vscode-notebook-cell:/c%3A/Users/SergioI/Proyectos/Gedera/DQNFlexibilityService/main.ipynb#W3sZmlsZQ%3D%3D?line=19'>20</a>\u001b[0m epsilon \u001b[39m=\u001b[39m \u001b[39m1\u001b[39m\n\u001b[0;32m     <a href='vscode-notebook-cell:/c%3A/Users/SergioI/Proyectos/Gedera/DQNFlexibilityService/main.ipynb#W3sZmlsZQ%3D%3D?line=20'>21</a>\u001b[0m memory \u001b[39m=\u001b[39m Memory(\u001b[39m10000\u001b[39m) \u001b[39m# Memory size\u001b[39;00m\n\u001b[1;32m---> <a href='vscode-notebook-cell:/c%3A/Users/SergioI/Proyectos/Gedera/DQNFlexibilityService/main.ipynb#W3sZmlsZQ%3D%3D?line=23'>24</a>\u001b[0m train(epsilon, MAX_STEPS, action_space, policy_network, EPS_DECAY, EPS_MIN, env, memory, BATCH_SIZE, STEP_UPDATE_MODEL, target_network, K, gamma, loss_function, optimizer, curve_pred)\n",
      "File \u001b[1;32mc:\\Users\\SergioI\\Proyectos\\Gedera\\DQNFlexibilityService\\dqn_utils\\utils.py:59\u001b[0m, in \u001b[0;36mtrain\u001b[1;34m(epsilon, MAX_STEPS, action_space, policy_network, EPS_DECAY, EPS_MIN, env, memory, BATCH_SIZE, STEP_UPDATE_MODEL, target_network, K, gamma, loss_function, optimizer, generated_energy)\u001b[0m\n\u001b[0;32m     56\u001b[0m     initial_state \u001b[39m=\u001b[39m next_step\n\u001b[0;32m     58\u001b[0m \u001b[39mif\u001b[39;00m step \u001b[39m%\u001b[39m K \u001b[39m==\u001b[39m \u001b[39m0\u001b[39m \u001b[39mand\u001b[39;00m \u001b[39mlen\u001b[39m(memory) \u001b[39m>\u001b[39m\u001b[39m=\u001b[39m BATCH_SIZE:\n\u001b[1;32m---> 59\u001b[0m     optimize_model(memory, BATCH_SIZE, target_network, policy_network, gamma, loss_function, optimizer, action_space)\n\u001b[0;32m     60\u001b[0m \u001b[39mif\u001b[39;00m step \u001b[39m%\u001b[39m STEP_UPDATE_MODEL \u001b[39m==\u001b[39m \u001b[39m0\u001b[39m:\n\u001b[0;32m     61\u001b[0m     target_network\u001b[39m.\u001b[39mset_weights(policy_network\u001b[39m.\u001b[39mget_weights())\n",
      "File \u001b[1;32mc:\\Users\\SergioI\\Proyectos\\Gedera\\DQNFlexibilityService\\dqn_utils\\utils.py:111\u001b[0m, in \u001b[0;36moptimize_model\u001b[1;34m(memory, BATCH_SIZE, target_network, policy_network, gamma, loss_function, optimizer, action_space)\u001b[0m\n\u001b[0;32m    108\u001b[0m \u001b[39mfor\u001b[39;00m i \u001b[39min\u001b[39;00m \u001b[39mrange\u001b[39m(\u001b[39mlen\u001b[39m(Qvalues)):\n\u001b[0;32m    109\u001b[0m     tf\u001b[39m.\u001b[39mmultiply(Qvalues[i], mask[i])\n\u001b[1;32m--> 111\u001b[0m mult \u001b[39m=\u001b[39m tf\u001b[39m.\u001b[39;49mmultiply(Qvalues, mask)\n\u001b[0;32m    112\u001b[0m y_pred \u001b[39m=\u001b[39m tf\u001b[39m.\u001b[39mreduce_sum(mult)\n\u001b[0;32m    113\u001b[0m loss \u001b[39m=\u001b[39m loss_function(y_target, y_pred)\n",
      "File \u001b[1;32mc:\\Users\\SergioI\\Python envs\\gedera_dqn_env\\Lib\\site-packages\\tensorflow\\python\\util\\traceback_utils.py:153\u001b[0m, in \u001b[0;36mfilter_traceback.<locals>.error_handler\u001b[1;34m(*args, **kwargs)\u001b[0m\n\u001b[0;32m    151\u001b[0m \u001b[39mexcept\u001b[39;00m \u001b[39mException\u001b[39;00m \u001b[39mas\u001b[39;00m e:\n\u001b[0;32m    152\u001b[0m   filtered_tb \u001b[39m=\u001b[39m _process_traceback_frames(e\u001b[39m.\u001b[39m__traceback__)\n\u001b[1;32m--> 153\u001b[0m   \u001b[39mraise\u001b[39;00m e\u001b[39m.\u001b[39mwith_traceback(filtered_tb) \u001b[39mfrom\u001b[39;00m \u001b[39mNone\u001b[39;00m\n\u001b[0;32m    154\u001b[0m \u001b[39mfinally\u001b[39;00m:\n\u001b[0;32m    155\u001b[0m   \u001b[39mdel\u001b[39;00m filtered_tb\n",
      "File \u001b[1;32mc:\\Users\\SergioI\\Python envs\\gedera_dqn_env\\Lib\\site-packages\\tensorflow\\python\\eager\\execute.py:53\u001b[0m, in \u001b[0;36mquick_execute\u001b[1;34m(op_name, num_outputs, inputs, attrs, ctx, name)\u001b[0m\n\u001b[0;32m     51\u001b[0m \u001b[39mtry\u001b[39;00m:\n\u001b[0;32m     52\u001b[0m   ctx\u001b[39m.\u001b[39mensure_initialized()\n\u001b[1;32m---> 53\u001b[0m   tensors \u001b[39m=\u001b[39m pywrap_tfe\u001b[39m.\u001b[39mTFE_Py_Execute(ctx\u001b[39m.\u001b[39m_handle, device_name, op_name,\n\u001b[0;32m     54\u001b[0m                                       inputs, attrs, num_outputs)\n\u001b[0;32m     55\u001b[0m \u001b[39mexcept\u001b[39;00m core\u001b[39m.\u001b[39m_NotOkStatusException \u001b[39mas\u001b[39;00m e:\n\u001b[0;32m     56\u001b[0m   \u001b[39mif\u001b[39;00m name \u001b[39mis\u001b[39;00m \u001b[39mnot\u001b[39;00m \u001b[39mNone\u001b[39;00m:\n",
      "\u001b[1;31mInvalidArgumentError\u001b[0m: {{function_node __wrapped__Mul_device_/job:localhost/replica:0/task:0/device:CPU:0}} Incompatible shapes: [1,4] vs. [15] [Op:Mul]"
     ]
    }
   ],
   "source": [
    "#Constant vars\n",
    "K = 4\n",
    "EPS_DECAY = 0.0000009\n",
    "EPS_MIN = 0.1\n",
    "#BATCH_SIZE = 32\n",
    "BATCH_SIZE = 1\n",
    "MAX_STEPS = 10000\n",
    "STEP_UPDATE_MODEL = 5000\n",
    "\n",
    "\n",
    "#model_type = \"Dense\" # Network (Dense)\n",
    "curve_pred = [35.0, 42.5]\n",
    "#curve_pred = [35.0, 42.5, 47.5,  38.5, 33.0, 41.0, 46.0, 37.0]\n",
    "# curve_pred = [[random.randint(30, 50) for i in range(1440)]]\n",
    "\n",
    "optimizer = tf.keras.optimizers.Adam(learning_rate=0.00025, clipnorm=1.0)\n",
    "loss_function = tf.keras.losses.Huber()\n",
    "seed = 42\n",
    "gamma = 0.99\n",
    "epsilon = 1\n",
    "memory = Memory(10000) # Memory size\n",
    "\n",
    "\n",
    "train(epsilon, MAX_STEPS, action_space, policy_network, EPS_DECAY, EPS_MIN, env, memory, BATCH_SIZE, STEP_UPDATE_MODEL, target_network, K, gamma, loss_function, optimizer, curve_pred)\n",
    "\n"
   ]
  },
  {
   "cell_type": "code",
   "execution_count": null,
   "metadata": {},
   "outputs": [],
   "source": [
    "# import matplotlib.pyplot as plt\n",
    "# curve_pred = [random.randint(30, 50) for i in range(1440)]\n",
    "# curve_pred2 = [random.randint(0, 112) for i in range(1440)]\n",
    "# curve_pred3 = [i for i in range(1440)]\n",
    "\n",
    "\n",
    "# plt.figure(figsize=(90,6))\n",
    "# plt.plot(curve_pred)\n",
    "# plt.plot(curve_pred2)\n",
    "# plt.savefig(\"salidaprimerentreno.png\")\n"
   ]
  }
 ],
 "metadata": {
  "kernelspec": {
   "display_name": "gedera_dqn_env",
   "language": "python",
   "name": "python3"
  },
  "language_info": {
   "codemirror_mode": {
    "name": "ipython",
    "version": 3
   },
   "file_extension": ".py",
   "mimetype": "text/x-python",
   "name": "python",
   "nbconvert_exporter": "python",
   "pygments_lexer": "ipython3",
   "version": "3.11.3"
  },
  "orig_nbformat": 4
 },
 "nbformat": 4,
 "nbformat_minor": 2
}
