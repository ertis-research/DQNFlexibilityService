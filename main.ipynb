{
 "cells": [
  {
   "cell_type": "code",
   "execution_count": 1,
   "metadata": {},
   "outputs": [],
   "source": [
    "from dqn_utils.models import *\n",
    "from dqn_utils.utils import define_env, train, optimize_model\n",
    "from adabyron_environment.AdaByronDEMO import AdaByronDEMO\n",
    "from dqn_utils.memory import Memory\n",
    "import tensorflow as tf\n",
    "import numpy as np\n",
    "from tensorflow import keras\n",
    "from tensorflow.keras import layers\n",
    "import random\n",
    "from collections import deque"
   ]
  },
  {
   "cell_type": "code",
   "execution_count": 2,
   "metadata": {},
   "outputs": [
    {
     "name": "stdout",
     "output_type": "stream",
     "text": [
      "Loading models...\n",
      "Models not found, creating new ones...\n"
     ]
    }
   ],
   "source": [
    "env, policy_network, target_network, action_space  = define_env(\"test\", [\"aire1\", \"aire2\"], baterias=[\"bateria1\"], INPUT_SIZE=4)\n",
    "\n",
    "#keras.utils.plot_model(policy_network, to_file='policy_network.png', show_shapes=True, show_layer_names=True, rankdir='TB', expand_nested=False, dpi=96)"
   ]
  },
  {
   "cell_type": "code",
   "execution_count": null,
   "metadata": {},
   "outputs": [],
   "source": [
    "a = np.array([[1,2,3,4]])\n",
    "b = np.append(a, [[5,6,7,8]], axis=0)\n",
    "print(b)"
   ]
  },
  {
   "cell_type": "code",
   "execution_count": 3,
   "metadata": {},
   "outputs": [
    {
     "name": "stdout",
     "output_type": "stream",
     "text": [
      "1\n",
      "[[ 0.   1.  35.  42.5]]\n",
      "Qpvalues\n"
     ]
    },
    {
     "ename": "AttributeError",
     "evalue": "'numpy.ndarray' object has no attribute 'append'",
     "output_type": "error",
     "traceback": [
      "\u001b[1;31m---------------------------------------------------------------------------\u001b[0m",
      "\u001b[1;31mAttributeError\u001b[0m                            Traceback (most recent call last)",
      "\u001b[1;32mc:\\Users\\SergioI\\Proyectos\\Gedera\\DQNFlexibilityService\\main.ipynb Cell 3\u001b[0m line \u001b[0;36m2\n\u001b[0;32m     <a href='vscode-notebook-cell:/c%3A/Users/SergioI/Proyectos/Gedera/DQNFlexibilityService/main.ipynb#W2sZmlsZQ%3D%3D?line=19'>20</a>\u001b[0m epsilon \u001b[39m=\u001b[39m \u001b[39m1\u001b[39m\n\u001b[0;32m     <a href='vscode-notebook-cell:/c%3A/Users/SergioI/Proyectos/Gedera/DQNFlexibilityService/main.ipynb#W2sZmlsZQ%3D%3D?line=20'>21</a>\u001b[0m memory \u001b[39m=\u001b[39m Memory(\u001b[39m10000\u001b[39m) \u001b[39m# Memory size\u001b[39;00m\n\u001b[1;32m---> <a href='vscode-notebook-cell:/c%3A/Users/SergioI/Proyectos/Gedera/DQNFlexibilityService/main.ipynb#W2sZmlsZQ%3D%3D?line=23'>24</a>\u001b[0m train(epsilon, MAX_STEPS, action_space, policy_network, EPS_DECAY, EPS_MIN, env, memory, BATCH_SIZE, STEP_UPDATE_MODEL, target_network, K, gamma, loss_function, optimizer, curve_pred)\n",
      "File \u001b[1;32mc:\\Users\\SergioI\\Proyectos\\Gedera\\DQNFlexibilityService\\dqn_utils\\utils.py:59\u001b[0m, in \u001b[0;36mtrain\u001b[1;34m(epsilon, MAX_STEPS, action_space, policy_network, EPS_DECAY, EPS_MIN, env, memory, BATCH_SIZE, STEP_UPDATE_MODEL, target_network, K, gamma, loss_function, optimizer, generated_energy)\u001b[0m\n\u001b[0;32m     56\u001b[0m     initial_state \u001b[39m=\u001b[39m next_step\n\u001b[0;32m     58\u001b[0m \u001b[39mif\u001b[39;00m step \u001b[39m%\u001b[39m K \u001b[39m==\u001b[39m \u001b[39m0\u001b[39m \u001b[39mand\u001b[39;00m \u001b[39mlen\u001b[39m(memory) \u001b[39m>\u001b[39m\u001b[39m=\u001b[39m BATCH_SIZE:\n\u001b[1;32m---> 59\u001b[0m     optimize_model(memory, BATCH_SIZE, target_network, policy_network, gamma, loss_function, optimizer, action_space)\n\u001b[0;32m     60\u001b[0m \u001b[39mif\u001b[39;00m step \u001b[39m%\u001b[39m STEP_UPDATE_MODEL \u001b[39m==\u001b[39m \u001b[39m0\u001b[39m:\n\u001b[0;32m     61\u001b[0m     target_network\u001b[39m.\u001b[39mset_weights(policy_network\u001b[39m.\u001b[39mget_weights())\n",
      "File \u001b[1;32mc:\\Users\\SergioI\\Proyectos\\Gedera\\DQNFlexibilityService\\dqn_utils\\utils.py:78\u001b[0m, in \u001b[0;36moptimize_model\u001b[1;34m(memory, BATCH_SIZE, target_network, policy_network, gamma, loss_function, optimizer, action_space)\u001b[0m\n\u001b[0;32m     76\u001b[0m qpvalues_2 \u001b[39m=\u001b[39m np\u001b[39m.\u001b[39marray([])\n\u001b[0;32m     77\u001b[0m \u001b[39mfor\u001b[39;00m v \u001b[39min\u001b[39;00m \u001b[39mrange\u001b[39m(\u001b[39mlen\u001b[39m(qpvalues)):\n\u001b[1;32m---> 78\u001b[0m     qpvalues[v][\u001b[39m0\u001b[39;49m]\u001b[39m.\u001b[39;49mappend([\u001b[39mfloat\u001b[39m(\u001b[39m\"\u001b[39m\u001b[39m-inf\u001b[39m\u001b[39m\"\u001b[39m) \u001b[39mfor\u001b[39;00m i \u001b[39min\u001b[39;00m \u001b[39mrange\u001b[39m(tam_max\u001b[39m-\u001b[39maction_space[\u001b[39m1\u001b[39m][v])])\n\u001b[0;32m     79\u001b[0m     \u001b[39m#qpvalues[v][0]=np.concatenate((qpvalues[v][0],[float(\"-inf\") for i in range(tam_max-action_space[1][v])]), axis=None)\u001b[39;00m\n\u001b[0;32m     81\u001b[0m \u001b[39mprint\u001b[39m(qpvalues)\n",
      "\u001b[1;31mAttributeError\u001b[0m: 'numpy.ndarray' object has no attribute 'append'"
     ]
    }
   ],
   "source": [
    "#Constant vars\n",
    "K = 4\n",
    "EPS_DECAY = 0.0000009\n",
    "EPS_MIN = 0.1\n",
    "#BATCH_SIZE = 32\n",
    "BATCH_SIZE = 1\n",
    "MAX_STEPS = 10000\n",
    "STEP_UPDATE_MODEL = 5000\n",
    "\n",
    "\n",
    "#model_type = \"Dense\" # Network (Dense)\n",
    "curve_pred = [35.0, 42.5]\n",
    "#curve_pred = [35.0, 42.5, 47.5,  38.5, 33.0, 41.0, 46.0, 37.0]\n",
    "# curve_pred = [[random.randint(30, 50) for i in range(1440)]]\n",
    "\n",
    "optimizer = tf.keras.optimizers.Adam(learning_rate=0.00025, clipnorm=1.0)\n",
    "loss_function = tf.keras.losses.Huber()\n",
    "seed = 42\n",
    "gamma = 0.99\n",
    "epsilon = 1\n",
    "memory = Memory(10000) # Memory size\n",
    "\n",
    "\n",
    "train(epsilon, MAX_STEPS, action_space, policy_network, EPS_DECAY, EPS_MIN, env, memory, BATCH_SIZE, STEP_UPDATE_MODEL, target_network, K, gamma, loss_function, optimizer, curve_pred)\n",
    "\n"
   ]
  },
  {
   "cell_type": "code",
   "execution_count": null,
   "metadata": {},
   "outputs": [],
   "source": [
    "# import matplotlib.pyplot as plt\n",
    "# curve_pred = [random.randint(30, 50) for i in range(1440)]\n",
    "# curve_pred2 = [random.randint(0, 112) for i in range(1440)]\n",
    "# curve_pred3 = [i for i in range(1440)]\n",
    "\n",
    "\n",
    "# plt.figure(figsize=(90,6))\n",
    "# plt.plot(curve_pred)\n",
    "# plt.plot(curve_pred2)\n",
    "# plt.savefig(\"salidaprimerentreno.png\")\n"
   ]
  }
 ],
 "metadata": {
  "kernelspec": {
   "display_name": "gedera_dqn_env",
   "language": "python",
   "name": "python3"
  },
  "language_info": {
   "codemirror_mode": {
    "name": "ipython",
    "version": 3
   },
   "file_extension": ".py",
   "mimetype": "text/x-python",
   "name": "python",
   "nbconvert_exporter": "python",
   "pygments_lexer": "ipython3",
   "version": "3.11.3"
  },
  "orig_nbformat": 4
 },
 "nbformat": 4,
 "nbformat_minor": 2
}
