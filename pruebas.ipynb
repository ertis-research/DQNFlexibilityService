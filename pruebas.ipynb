{
 "cells": [
  {
   "cell_type": "code",
   "execution_count": 1,
   "metadata": {},
   "outputs": [],
   "source": [
    "from dqn_utils.models import *\n",
    "from dqn_utils.utils import define_env, train, optimize_model, action_selection\n",
    "from dqn_utils.models import manDQN\n",
    "from adabyron_environment.AdaByronDEMO import AdaByronDEMO\n",
    "from dqn_utils.memory import Memory\n",
    "import tensorflow as tf\n",
    "import numpy as np\n",
    "from tensorflow import keras\n",
    "from tensorflow.keras import layers\n",
    "import random\n",
    "from collections import deque\n",
    "import matplotlib.pyplot as plt"
   ]
  },
  {
   "cell_type": "code",
   "execution_count": 6,
   "metadata": {},
   "outputs": [
    {
     "name": "stdout",
     "output_type": "stream",
     "text": [
      "Loading models...\n",
      "Models not found, creating new ones...\n"
     ]
    }
   ],
   "source": [
    "#Constant vars\n",
    "K = 4\n",
    "EPS_DECAY = 0.0000009\n",
    "EPS_MIN = 0.1\n",
    "BATCH_SIZE = 32\n",
    "#BATCH_SIZE = 4\n",
    "MAX_STEPS = 10000\n",
    "STEP_UPDATE_MODEL = 5000\n",
    "INPUT_SIZE = 98\n",
    "EPISODES = 1000\n",
    "RUN_NAME = \"test_02-10\"\n",
    "\n",
    "generated_energy = [random.randint(30, 50) for i in range(96)]\n",
    "\n",
    "env, policy_network, target_network, action_space  = define_env(RUN_NAME, [\"aire1\", \"aire2\"], INPUT_SIZE=INPUT_SIZE)\n",
    "\n",
    "#resultados = test(policy_network, env, MAX_STEPS-2, curve_pred, a_s)\n",
    "\n",
    "#saveFig(curve_pred, resultados, RUN_NAME)"
   ]
  },
  {
   "cell_type": "code",
   "execution_count": 3,
   "metadata": {},
   "outputs": [],
   "source": [
    "inicial_state_consumption, _, _ = env.reset()\n",
    "day_step = 0\n",
    "initial_state = np.array([inicial_state_consumption, day_step]+generated_energy)\n",
    "resultados = [inicial_state_consumption]   "
   ]
  },
  {
   "cell_type": "code",
   "execution_count": 4,
   "metadata": {},
   "outputs": [
    {
     "name": "stdout",
     "output_type": "stream",
     "text": [
      "Fixed actions: [0, 3]\n",
      "Index : 0\n",
      "Air conditioning aire1, Action 0\n",
      "Entro por la 0\n",
      "Consumo del dispositivo apagado: 0\n",
      "Consumption: 0\n",
      "Index : 1\n",
      "Air conditioning aire2, Action 3\n",
      "Entro por la 3\n",
      "Consumo del dispositivo: 65\n",
      "Consumption: 65\n"
     ]
    }
   ],
   "source": [
    "tf_tensor = tf.convert_to_tensor(initial_state)\n",
    "tf_tensor = tf.expand_dims(initial_state, 0)\n",
    "\n",
    "output = policy_network(tf_tensor, training=False)\n",
    "#print(output)\n",
    "action = action_selection(output, action_space)\n",
    "#print(action)\n",
    "next_state, reward, done = env.step(action, day_step, generated_energy)\n",
    "day_step+=1\n",
    "\n",
    "next_state = np.array([next_state, day_step]+generated_energy)\n",
    "#print(\"Actual state: {}, next state: {}, reward: {}\".format(initial_state, next_state, reward))\n",
    "initial_state = next_state\n",
    "if done:\n",
    "    print(\"Done\")"
   ]
  },
  {
   "cell_type": "code",
   "execution_count": 5,
   "metadata": {},
   "outputs": [],
   "source": [
    "def saveFig(pred, results, run_name):\n",
    "    print(\"Saving results\")\n",
    "    print(\"Pred len: {}, res len: {}\".format(len(pred), len(results)))\n",
    "    plt.plot(pred, label='Predicción')\n",
    "    plt.plot(results, label='Resultados')\n",
    "    plt.legend()\n",
    "    plt.savefig('images/results2.png')"
   ]
  }
 ],
 "metadata": {
  "kernelspec": {
   "display_name": "gedera_dqn_env",
   "language": "python",
   "name": "python3"
  },
  "language_info": {
   "codemirror_mode": {
    "name": "ipython",
    "version": 3
   },
   "file_extension": ".py",
   "mimetype": "text/x-python",
   "name": "python",
   "nbconvert_exporter": "python",
   "pygments_lexer": "ipython3",
   "version": "3.11.3"
  },
  "orig_nbformat": 4
 },
 "nbformat": 4,
 "nbformat_minor": 2
}
