{
 "cells": [
  {
   "cell_type": "code",
   "execution_count": 1,
   "metadata": {},
   "outputs": [],
   "source": [
    "from dqn_utils.models import *\n",
    "from dqn_utils.utils import define_env, train, optimize_model, action_selection\n",
    "from dqn_utils.models import manDQN\n",
    "from adabyron_environment.AdaByronDEMO import AdaByronDEMO\n",
    "from dqn_utils.memory import Memory\n",
    "import tensorflow as tf\n",
    "import numpy as np\n",
    "from tensorflow import keras\n",
    "from tensorflow.keras import layers\n",
    "import random\n",
    "from collections import deque\n",
    "import matplotlib.pyplot as plt"
   ]
  },
  {
   "cell_type": "code",
   "execution_count": 2,
   "metadata": {},
   "outputs": [
    {
     "name": "stdout",
     "output_type": "stream",
     "text": [
      "[38, 44, 31, 31, 30, 39, 46, 49, 46, 50, 47, 50, 33, 42, 44, 37, 50, 33, 36, 34, 48, 45, 47, 39, 38, 32, 32, 37, 36, 30, 39, 39, 40, 49, 43, 46, 34, 34, 32, 35, 44, 33, 35, 44, 43, 35, 42, 33, 36, 50, 46, 43, 43, 35, 32, 49, 32, 43, 42, 32, 49, 42, 49, 42, 40, 38, 46, 40, 40, 39, 32, 37, 38, 45, 47, 34, 32, 40, 50, 46, 49, 35, 34, 36, 45, 47, 45, 47, 35, 40, 42, 43, 41, 41, 30, 31]\n",
      "Loading models...\n",
      "Models not found, creating new ones...\n"
     ]
    }
   ],
   "source": [
    "#Constant vars\n",
    "K = 4\n",
    "EPS_DECAY = 0.0000009\n",
    "EPS_MIN = 0.1\n",
    "BATCH_SIZE = 32\n",
    "#BATCH_SIZE = 4\n",
    "MAX_STEPS = 10000\n",
    "STEP_UPDATE_MODEL = 5000\n",
    "INPUT_SIZE = 98\n",
    "EPISODES = 1000\n",
    "RUN_NAME = \"test_02-10\"\n",
    "\n",
    "generated_energy = [random.randint(30, 50) for i in range(96)]\n",
    "print(generated_energy)\n",
    "env, policy_network, target_network, action_space  = define_env(RUN_NAME, [\"aire1\", \"aire2\"], INPUT_SIZE=INPUT_SIZE)\n",
    "\n",
    "#resultados = test(policy_network, env, MAX_STEPS-2, curve_pred, a_s)\n",
    "\n",
    "#saveFig(curve_pred, resultados, RUN_NAME)"
   ]
  },
  {
   "cell_type": "code",
   "execution_count": 4,
   "metadata": {},
   "outputs": [
    {
     "data": {
      "text/plain": [
       "[4, 7]"
      ]
     },
     "execution_count": 4,
     "metadata": {},
     "output_type": "execute_result"
    }
   ],
   "source": [
    "randomActions(action_space)"
   ]
  },
  {
   "cell_type": "code",
   "execution_count": 3,
   "metadata": {},
   "outputs": [],
   "source": [
    "inicial_state_consumption, _, _ = env.reset()\n",
    "day_step = 0\n",
    "initial_state = np.array([inicial_state_consumption, day_step]+generated_energy)\n",
    "resultados = [inicial_state_consumption]   "
   ]
  },
  {
   "cell_type": "code",
   "execution_count": 4,
   "metadata": {},
   "outputs": [
    {
     "name": "stdout",
     "output_type": "stream",
     "text": [
      "Fixed actions: [0, 3]\n",
      "Entro por la 0\n",
      "<class 'int'>\n",
      "Entro por la 3\n",
      "<class 'int'>\n",
      "Actual state: 65, generacion: 47, reward: -0.18\n"
     ]
    }
   ],
   "source": [
    "tf_tensor = tf.convert_to_tensor(initial_state)\n",
    "tf_tensor = tf.expand_dims(initial_state, 0)\n",
    "\n",
    "output = policy_network(tf_tensor, training=False)\n",
    "#print(output)\n",
    "action = action_selection(output, action_space)\n",
    "#print(action)\n",
    "next_state, reward, done = env.step(action, day_step, generated_energy)\n",
    "day_step+=1\n",
    "\n",
    "next_state = np.array([next_state, day_step]+generated_energy)\n",
    "print(\"Actual state: {}, generacion: {}, reward: {}\".format(next_state[0], generated_energy[day_step-1], reward))\n",
    "initial_state = next_state\n",
    "if done:\n",
    "    print(\"Done\")"
   ]
  },
  {
   "cell_type": "code",
   "execution_count": 5,
   "metadata": {},
   "outputs": [],
   "source": [
    "def saveFig(pred, results, run_name):\n",
    "    print(\"Saving results\")\n",
    "    print(\"Pred len: {}, res len: {}\".format(len(pred), len(results)))\n",
    "    plt.plot(pred, label='Predicción')\n",
    "    plt.plot(results, label='Resultados')\n",
    "    plt.legend()\n",
    "    plt.savefig('images/results2.png')"
   ]
  }
 ],
 "metadata": {
  "kernelspec": {
   "display_name": "gedera_dqn_env",
   "language": "python",
   "name": "python3"
  },
  "language_info": {
   "codemirror_mode": {
    "name": "ipython",
    "version": 3
   },
   "file_extension": ".py",
   "mimetype": "text/x-python",
   "name": "python",
   "nbconvert_exporter": "python",
   "pygments_lexer": "ipython3",
   "version": "3.11.3"
  },
  "orig_nbformat": 4
 },
 "nbformat": 4,
 "nbformat_minor": 2
}
